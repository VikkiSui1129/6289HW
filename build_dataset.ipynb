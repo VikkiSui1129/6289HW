{
  "nbformat": 4,
  "nbformat_minor": 0,
  "metadata": {
    "colab": {
      "name": "build_dataset.ipynb",
      "provenance": [],
      "collapsed_sections": [],
      "include_colab_link": true
    },
    "kernelspec": {
      "name": "python3",
      "display_name": "Python 3"
    },
    "language_info": {
      "name": "python"
    }
  },
  "cells": [
    {
      "cell_type": "markdown",
      "metadata": {
        "id": "view-in-github",
        "colab_type": "text"
      },
      "source": [
        "<a href=\"https://colab.research.google.com/github/VikkiSui1129/6289HW/blob/main/build_dataset.ipynb\" target=\"_parent\"><img src=\"https://colab.research.google.com/assets/colab-badge.svg\" alt=\"Open In Colab\"/></a>"
      ]
    },
    {
      "cell_type": "code",
      "execution_count": null,
      "metadata": {
        "id": "yO_WvX3lLzPn"
      },
      "outputs": [],
      "source": [
        "import os\n",
        "import sys\n",
        "from shutil import copyfile"
      ]
    },
    {
      "cell_type": "code",
      "source": [
        "os.chdir(\"/content/drive/MyDrive/statistical deep learning/project\")"
      ],
      "metadata": {
        "id": "y5jS1uBXNUkd"
      },
      "execution_count": null,
      "outputs": []
    },
    {
      "cell_type": "markdown",
      "source": [
        "Select 100/20 training/valid data from DIV2K"
      ],
      "metadata": {
        "id": "ocRFrjEhOVeJ"
      }
    },
    {
      "cell_type": "code",
      "source": [
        "input_path = \"../kaggle/DIV2K_valid_HR/DIV2K_valid_HR\"\n",
        "output_path = \"./data/original_data/valid\"\n",
        "if not os.path.exists(output_path):\n",
        "  os.makedirs(output_path)\n",
        "c = 0\n",
        "for f in sorted(os.listdir(input_path)):\n",
        "  if c >= 20:\n",
        "    break\n",
        "  c += 1\n",
        "  image_path = os.path.join(input_path, f)\n",
        "  outimage_path = os.path.join(output_path, f)\n",
        "  copyfile(image_path, outimage_path)\n",
        "  print(outimage_path)"
      ],
      "metadata": {
        "colab": {
          "base_uri": "https://localhost:8080/"
        },
        "id": "F3oTKPB_L4YY",
        "outputId": "643caa0b-18b7-44e9-db4d-f0254371797c"
      },
      "execution_count": null,
      "outputs": [
        {
          "output_type": "stream",
          "name": "stdout",
          "text": [
            "/content/drive/MyDrive/vikki/project/data/original_data/valid/0801.png\n",
            "/content/drive/MyDrive/vikki/project/data/original_data/valid/0802.png\n",
            "/content/drive/MyDrive/vikki/project/data/original_data/valid/0803.png\n",
            "/content/drive/MyDrive/vikki/project/data/original_data/valid/0804.png\n",
            "/content/drive/MyDrive/vikki/project/data/original_data/valid/0805.png\n",
            "/content/drive/MyDrive/vikki/project/data/original_data/valid/0806.png\n",
            "/content/drive/MyDrive/vikki/project/data/original_data/valid/0807.png\n",
            "/content/drive/MyDrive/vikki/project/data/original_data/valid/0808.png\n",
            "/content/drive/MyDrive/vikki/project/data/original_data/valid/0809.png\n",
            "/content/drive/MyDrive/vikki/project/data/original_data/valid/0810.png\n",
            "/content/drive/MyDrive/vikki/project/data/original_data/valid/0811.png\n",
            "/content/drive/MyDrive/vikki/project/data/original_data/valid/0812.png\n",
            "/content/drive/MyDrive/vikki/project/data/original_data/valid/0813.png\n",
            "/content/drive/MyDrive/vikki/project/data/original_data/valid/0814.png\n",
            "/content/drive/MyDrive/vikki/project/data/original_data/valid/0815.png\n",
            "/content/drive/MyDrive/vikki/project/data/original_data/valid/0816.png\n",
            "/content/drive/MyDrive/vikki/project/data/original_data/valid/0817.png\n",
            "/content/drive/MyDrive/vikki/project/data/original_data/valid/0818.png\n",
            "/content/drive/MyDrive/vikki/project/data/original_data/valid/0819.png\n",
            "/content/drive/MyDrive/vikki/project/data/original_data/valid/0820.png\n"
          ]
        }
      ]
    },
    {
      "cell_type": "markdown",
      "source": [
        "Resize data to 1080 * 1920"
      ],
      "metadata": {
        "id": "rlatAXHqOZ0x"
      }
    },
    {
      "cell_type": "code",
      "source": [
        "import cv2\n",
        "\n",
        "input_path = \"./data/original_data/valid/\"\n",
        "output_path = \"./data/aligned_data/valid/\"\n",
        "if not os.path.exists(output_path):\n",
        "    os.makedirs(output_path)\n",
        "\n",
        "\n",
        "files = os.listdir(input_path)\n",
        "for f in files:\n",
        "    now_input_path = input_path + f\n",
        "    now_output_path = output_path + f\n",
        "\n",
        "    img = cv2.imread(now_input_path)\n",
        "    H,W,_ = img.shape\n",
        "    if H > 1080 and W > 1920:\n",
        "        LH = (H - 1080)//2\n",
        "        RH = LH + 1080\n",
        "        LW = (W - 1920)//2\n",
        "        RW = LW + 1920\n",
        "        img_resize = img[LH:RH, LW:RW, :]\n",
        "    else:\n",
        "        img_resize = cv2.resize(img, (1920, 1080))\n",
        "\n",
        "    cv2.imwrite(now_output_path, img_resize)"
      ],
      "metadata": {
        "id": "JZUqFga5NfX8"
      },
      "execution_count": null,
      "outputs": []
    }
  ]
}