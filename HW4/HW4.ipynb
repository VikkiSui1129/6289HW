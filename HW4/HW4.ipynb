{
  "nbformat": 4,
  "nbformat_minor": 0,
  "metadata": {
    "colab": {
      "name": "HW4.ipynb",
      "provenance": [],
      "collapsed_sections": [],
      "include_colab_link": true
    },
    "kernelspec": {
      "name": "python3",
      "display_name": "Python 3"
    },
    "language_info": {
      "name": "python"
    },
    "accelerator": "GPU"
  },
  "cells": [
    {
      "cell_type": "markdown",
      "metadata": {
        "id": "view-in-github",
        "colab_type": "text"
      },
      "source": [
        "<a href=\"https://colab.research.google.com/github/VikkiSui1129/6289HW/blob/main/HW4.ipynb\" target=\"_parent\"><img src=\"https://colab.research.google.com/assets/colab-badge.svg\" alt=\"Open In Colab\"/></a>"
      ]
    },
    {
      "cell_type": "code",
      "execution_count": 2,
      "metadata": {
        "colab": {
          "base_uri": "https://localhost:8080/"
        },
        "id": "ypte58p6bZv7",
        "outputId": "29631519-ee00-459a-d888-29c0d34e19da"
      },
      "outputs": [
        {
          "output_type": "stream",
          "name": "stdout",
          "text": [
            "Mounted at /content/drive\n"
          ]
        }
      ],
      "source": [
        "from google.colab import drive\n",
        "drive.mount('/content/drive')"
      ]
    },
    {
      "cell_type": "code",
      "source": [
        "import os\n",
        "os.chdir(\"/content/drive/MyDrive/statistical deep learning/hw4\")\n",
        "import sys\n",
        "sys.path.append(\"/content/drive/MyDrive/statistical deep learning/hw4\")"
      ],
      "metadata": {
        "id": "Ssk3G9t4etvL"
      },
      "execution_count": 3,
      "outputs": []
    },
    {
      "cell_type": "code",
      "source": [
        "!pip install pymagnitude flask"
      ],
      "metadata": {
        "colab": {
          "base_uri": "https://localhost:8080/"
        },
        "id": "DZQnsRtLez1r",
        "outputId": "c84520a8-6f98-4b9a-dc43-ae0d230d652d"
      },
      "execution_count": 4,
      "outputs": [
        {
          "output_type": "stream",
          "name": "stdout",
          "text": [
            "Collecting pymagnitude\n",
            "  Downloading pymagnitude-0.1.143.tar.gz (5.4 MB)\n",
            "\u001b[K     |████████████████████████████████| 5.4 MB 5.2 MB/s \n",
            "\u001b[?25hRequirement already satisfied: flask in /usr/local/lib/python3.7/dist-packages (1.1.4)\n",
            "Requirement already satisfied: Jinja2<3.0,>=2.10.1 in /usr/local/lib/python3.7/dist-packages (from flask) (2.11.3)\n",
            "Requirement already satisfied: itsdangerous<2.0,>=0.24 in /usr/local/lib/python3.7/dist-packages (from flask) (1.1.0)\n",
            "Requirement already satisfied: click<8.0,>=5.1 in /usr/local/lib/python3.7/dist-packages (from flask) (7.1.2)\n",
            "Requirement already satisfied: Werkzeug<2.0,>=0.15 in /usr/local/lib/python3.7/dist-packages (from flask) (1.0.1)\n",
            "Requirement already satisfied: MarkupSafe>=0.23 in /usr/local/lib/python3.7/dist-packages (from Jinja2<3.0,>=2.10.1->flask) (2.0.1)\n",
            "Building wheels for collected packages: pymagnitude\n",
            "  Building wheel for pymagnitude (setup.py) ... \u001b[?25l\u001b[?25hdone\n",
            "  Created wheel for pymagnitude: filename=pymagnitude-0.1.143-cp37-cp37m-linux_x86_64.whl size=360404998 sha256=3c12bd963cd60177254024bd1b3d6b9e6a49ee4f16b3de36d8be2ba9e1b0f0e1\n",
            "  Stored in directory: /root/.cache/pip/wheels/0e/96/d6/b765a1ce34517c193d764b634b1ff7db5e1dcfea2520f17273\n",
            "Successfully built pymagnitude\n",
            "Installing collected packages: pymagnitude\n",
            "Successfully installed pymagnitude-0.1.143\n"
          ]
        }
      ]
    },
    {
      "cell_type": "code",
      "source": [
        "from pymagnitude import *\n",
        "file_path = \"GoogleNews-vectors-negative300.magnitude\"\n",
        "vectors = Magnitude(file_path)"
      ],
      "metadata": {
        "id": "a8c08HhMfOgK"
      },
      "execution_count": 7,
      "outputs": []
    },
    {
      "cell_type": "code",
      "source": [
        "vectors.distance(\"cat\", \"dog\")"
      ],
      "metadata": {
        "colab": {
          "base_uri": "https://localhost:8080/"
        },
        "id": "_Fg89JDZ8-wk",
        "outputId": "0b3b0bcf-eae3-43e2-9dc8-b8a0a879ee44"
      },
      "execution_count": 8,
      "outputs": [
        {
          "output_type": "execute_result",
          "data": {
            "text/plain": [
              "0.69145405"
            ]
          },
          "metadata": {},
          "execution_count": 8
        }
      ]
    },
    {
      "cell_type": "markdown",
      "source": [
        "### Questions"
      ],
      "metadata": {
        "id": "o2ddZLWd-W2b"
      }
    },
    {
      "cell_type": "markdown",
      "source": [
        "1. What is the dimensionality of these word embeddings? Provide an integer answer.\n",
        "\n",
        "Answer: 300"
      ],
      "metadata": {
        "id": "iDiCac6z-bKh"
      }
    },
    {
      "cell_type": "code",
      "source": [
        "vectors.dim"
      ],
      "metadata": {
        "colab": {
          "base_uri": "https://localhost:8080/"
        },
        "id": "1ce0u3SZ-cJ4",
        "outputId": "7148ad0a-387b-43db-9a85-6d252bd43338"
      },
      "execution_count": 9,
      "outputs": [
        {
          "output_type": "execute_result",
          "data": {
            "text/plain": [
              "300"
            ]
          },
          "metadata": {},
          "execution_count": 9
        }
      ]
    },
    {
      "cell_type": "markdown",
      "source": [
        "2. What are the top-5 most similar words to picnic (not including picnic itself)?\n",
        "\n",
        "Answer: picnics, picnic_lunch, potluck_picnic, picnic_supper, picnicking"
      ],
      "metadata": {
        "id": "i2hQ59M0-iI8"
      }
    },
    {
      "cell_type": "code",
      "source": [
        "vectors.most_similar(\"picnic\", topn = 10)"
      ],
      "metadata": {
        "colab": {
          "base_uri": "https://localhost:8080/"
        },
        "id": "Z4ebLt0t-kuS",
        "outputId": "e91b8766-42f5-449a-8dde-d9d304bcdc57"
      },
      "execution_count": 10,
      "outputs": [
        {
          "output_type": "execute_result",
          "data": {
            "text/plain": [
              "[('picnics', 0.7400875),\n",
              " ('picnic_lunch', 0.721374),\n",
              " ('Picnic', 0.700534),\n",
              " ('potluck_picnic', 0.6683274),\n",
              " ('picnic_supper', 0.65189123),\n",
              " ('picnicking', 0.63550216),\n",
              " ('cookout', 0.63243484),\n",
              " ('Hiking_biking_camping', 0.6256069),\n",
              " ('barbeque', 0.62256277),\n",
              " ('barbecue', 0.6195759)]"
            ]
          },
          "metadata": {},
          "execution_count": 10
        }
      ]
    },
    {
      "cell_type": "markdown",
      "source": [
        "3. According to the word embeddings, which of these words is not like the others? ['tissue', 'papyrus', 'manila', 'newsprint', 'parchment', 'gazette']\n",
        "\n",
        "Answer: tissue"
      ],
      "metadata": {
        "id": "D1r7E0HUB1os"
      }
    },
    {
      "cell_type": "code",
      "source": [
        "vectors.doesnt_match(['tissue', 'papyrus', 'manila', 'newsprint', 'parchment', 'gazette'])"
      ],
      "metadata": {
        "colab": {
          "base_uri": "https://localhost:8080/",
          "height": 35
        },
        "id": "Y-dl_mNHCE4H",
        "outputId": "60f9bf6e-bedf-4ca0-b06e-0caed1d3fc03"
      },
      "execution_count": 11,
      "outputs": [
        {
          "output_type": "execute_result",
          "data": {
            "text/plain": [
              "'tissue'"
            ],
            "application/vnd.google.colaboratory.intrinsic+json": {
              "type": "string"
            }
          },
          "metadata": {},
          "execution_count": 11
        }
      ]
    },
    {
      "cell_type": "markdown",
      "source": [
        "4. Solve the following analogy: leg is to jump as X is to throw\n",
        "\n",
        "Answer: forearm"
      ],
      "metadata": {
        "id": "cAosvGLpCJYZ"
      }
    },
    {
      "cell_type": "code",
      "source": [
        "vectors.most_similar(positive = [\"leg\", \"throw\"], negative = [\"jump\"])"
      ],
      "metadata": {
        "colab": {
          "base_uri": "https://localhost:8080/"
        },
        "id": "KIoyYiSW-MMB",
        "outputId": "24a89665-e425-4837-b3d5-3317b30bb704"
      },
      "execution_count": 12,
      "outputs": [
        {
          "output_type": "execute_result",
          "data": {
            "text/plain": [
              "[('forearm', 0.48294652),\n",
              " ('shin', 0.47376165),\n",
              " ('elbow', 0.4679689),\n",
              " ('metacarpal_bone', 0.46781474),\n",
              " ('metacarpal_bones', 0.46605822),\n",
              " ('ankle', 0.46434426),\n",
              " ('shoulder', 0.46183354),\n",
              " ('thigh', 0.45393682),\n",
              " ('knee', 0.4455707),\n",
              " ('ulna_bone', 0.4423491)]"
            ]
          },
          "metadata": {},
          "execution_count": 12
        }
      ]
    },
    {
      "cell_type": "markdown",
      "source": [
        " ### Describe some key functions, or main steps"
      ],
      "metadata": {
        "id": "zdejbXWQF8al"
      }
    },
    {
      "cell_type": "markdown",
      "source": [
        "Each word is embedding in a 300-dimention vector. To find this vector, we can query the word by function \"query\".\n",
        "\n",
        "We can compute the distance between different words to calculate the similarity. By sorting this distance, we can get the result of function \"most_similar\". \n",
        "\n",
        "One intuitive explanation for how positive and negative words work in \"most_similar\" function is: Assume the positive vectors are $p_{1}$, ..., $p_{i}$ and the negative vectors are $n_{1}, ..., n_{j}$. Then we can find the most similar words by compute the distance with vector $\\frac{1}{i-j}(p_{1} + ... + p_{i} - n_{1} - ... - n_{j})$.\n",
        "\n"
      ],
      "metadata": {
        "id": "NXlSo9vMGJp1"
      }
    },
    {
      "cell_type": "markdown",
      "source": [
        "### Visualization results"
      ],
      "metadata": {
        "id": "m1k0T50SI21P"
      }
    },
    {
      "cell_type": "markdown",
      "source": [
        "Lets find the covariance matrix for ['tissue', 'papyrus', 'manila', 'newsprint', 'parchment', 'gazette']"
      ],
      "metadata": {
        "id": "FyAOvebTI9tJ"
      }
    },
    {
      "cell_type": "code",
      "source": [
        "import numpy as np\n",
        "select_words = ['tissue', 'papyrus', 'manila', 'newsprint', 'parchment', 'gazette']\n",
        "vec_enc = vectors.query(select_words)\n",
        "vec_cov = np.cov(vec_enc)\n"
      ],
      "metadata": {
        "id": "2b9ZqHn9I6T6"
      },
      "execution_count": 13,
      "outputs": []
    },
    {
      "cell_type": "code",
      "source": [
        "import matplotlib.pyplot as plt\n",
        "\n",
        "plt.figure(figsize=(8, 8))\n",
        "plt.matshow(vec_cov)\n",
        "plt.xticks([0,1,2,3,4,5], select_words)\n",
        "plt.yticks([0,1,2,3,4,5], select_words)\n",
        "plt.colorbar()\n",
        "plt.show()"
      ],
      "metadata": {
        "colab": {
          "base_uri": "https://localhost:8080/",
          "height": 272
        },
        "id": "mNrW7EdvJiyj",
        "outputId": "5dbdd51b-955d-4ddf-8d09-21bbcade4fde"
      },
      "execution_count": 14,
      "outputs": [
        {
          "output_type": "display_data",
          "data": {
            "text/plain": [
              "<Figure size 576x576 with 0 Axes>"
            ]
          },
          "metadata": {}
        },
        {
          "output_type": "display_data",
          "data": {
            "text/plain": [
              "<Figure size 288x288 with 2 Axes>"
            ],
            "image/png": "[encoded data removed]"
          },
          "metadata": {
            "needs_background": "light"
          }
        }
      ]
    },
    {
      "cell_type": "markdown",
      "source": [
        "From the plot, we can see that the row and column where \"tissue\" is located has the smallest value, and it is least related to other words."
      ],
      "metadata": {
        "id": "ddP4GGntMAN_"
      }
    }
  ]
}
